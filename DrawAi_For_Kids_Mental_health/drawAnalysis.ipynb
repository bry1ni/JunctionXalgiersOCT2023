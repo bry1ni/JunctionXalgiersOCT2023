{
 "cells": [
  {
   "cell_type": "code",
   "execution_count": 2,
   "id": "441553c6",
   "metadata": {},
   "outputs": [
    {
     "name": "stderr",
     "output_type": "stream",
     "text": [
      "2023-10-06 10:41:39.411073: I tensorflow/core/platform/cpu_feature_guard.cc:193] This TensorFlow binary is optimized with oneAPI Deep Neural Network Library (oneDNN) to use the following CPU instructions in performance-critical operations:  SSE4.1 SSE4.2 AVX AVX2 FMA\n",
      "To enable them in other operations, rebuild TensorFlow with the appropriate compiler flags.\n"
     ]
    }
   ],
   "source": [
    "import os\n",
    "import numpy as np\n",
    "from tensorflow import keras\n",
    "from tensorflow.keras.preprocessing.image import ImageDataGenerator"
   ]
  },
  {
   "cell_type": "code",
   "execution_count": 20,
   "id": "643bdc54",
   "metadata": {},
   "outputs": [
    {
     "name": "stdout",
     "output_type": "stream",
     "text": [
      "Found 227 images belonging to 2 classes.\n",
      "Found 56 images belonging to 2 classes.\n"
     ]
    }
   ],
   "source": [
    "# Set the path to the FireNet dataset\n",
    "firenet_path = 'drawDataset'\n",
    "\n",
    "# Set the input size for the images\n",
    "input_size = (512, 512)\n",
    "\n",
    "# Define the data generators for the training and validation sets\n",
    "train_datagen = ImageDataGenerator(rescale=1./255, validation_split=0.2)\n",
    "train_generator = train_datagen.flow_from_directory(\n",
    "    firenet_path,\n",
    "    target_size=input_size,\n",
    "    batch_size=32,\n",
    "    class_mode='categorical',\n",
    "    subset='training')\n",
    "val_generator = train_datagen.flow_from_directory(\n",
    "    firenet_path,\n",
    "    target_size=input_size,\n",
    "    batch_size=32,\n",
    "    class_mode='categorical',\n",
    "    subset='validation')"
   ]
  },
  {
   "cell_type": "code",
   "execution_count": 21,
   "id": "14376a97",
   "metadata": {},
   "outputs": [],
   "source": [
    "# Define the CNN model\n",
    "model = keras.Sequential([\n",
    "    keras.layers.Conv2D(32, (3, 3), activation='relu', input_shape=(input_size[0], input_size[1], 3)),\n",
    "    keras.layers.MaxPooling2D((2, 2)),\n",
    "    keras.layers.Conv2D(64, (3, 3), activation='relu'),\n",
    "    keras.layers.MaxPooling2D((2, 2)),\n",
    "    keras.layers.Conv2D(128, (3, 3), activation='relu'),\n",
    "    keras.layers.MaxPooling2D((2, 2)),\n",
    "    keras.layers.Flatten(),\n",
    "    keras.layers.Dense(128, activation='relu'),\n",
    "    keras.layers.Dense(2, activation='sigmoid')\n",
    "])"
   ]
  },
  {
   "cell_type": "code",
   "execution_count": 22,
   "id": "76057aea",
   "metadata": {},
   "outputs": [
    {
     "name": "stdout",
     "output_type": "stream",
     "text": [
      "Epoch 1/10\n",
      "8/8 [==============================] - 110s 14s/step - loss: 5.5693 - accuracy: 0.4361 - val_loss: 0.6951 - val_accuracy: 0.4643\n",
      "Epoch 2/10\n",
      "8/8 [==============================] - 44s 6s/step - loss: 0.7032 - accuracy: 0.5198 - val_loss: 0.6998 - val_accuracy: 0.4643\n",
      "Epoch 3/10\n",
      "8/8 [==============================] - 40s 5s/step - loss: 0.6954 - accuracy: 0.5595 - val_loss: 0.6909 - val_accuracy: 0.5357\n",
      "Epoch 4/10\n",
      "8/8 [==============================] - 37s 5s/step - loss: 0.6920 - accuracy: 0.5374 - val_loss: 0.6921 - val_accuracy: 0.5357\n",
      "Epoch 5/10\n",
      "8/8 [==============================] - 38s 5s/step - loss: 0.6792 - accuracy: 0.5683 - val_loss: 0.6893 - val_accuracy: 0.5357\n",
      "Epoch 6/10\n",
      "8/8 [==============================] - 38s 5s/step - loss: 0.6731 - accuracy: 0.5551 - val_loss: 0.8914 - val_accuracy: 0.5357\n",
      "Epoch 7/10\n",
      "8/8 [==============================] - 38s 5s/step - loss: 0.7005 - accuracy: 0.5771 - val_loss: 0.6879 - val_accuracy: 0.5536\n",
      "Epoch 8/10\n",
      "8/8 [==============================] - 39s 5s/step - loss: 0.6133 - accuracy: 0.6564 - val_loss: 0.7028 - val_accuracy: 0.5893\n",
      "Epoch 9/10\n",
      "8/8 [==============================] - 40s 5s/step - loss: 0.8494 - accuracy: 0.7269 - val_loss: 0.6909 - val_accuracy: 0.6429\n",
      "Epoch 10/10\n",
      "8/8 [==============================] - 41s 5s/step - loss: 0.6532 - accuracy: 0.6916 - val_loss: 0.7020 - val_accuracy: 0.5357\n"
     ]
    }
   ],
   "source": [
    "# Compile the model\n",
    "model.compile(optimizer='adam', loss='binary_crossentropy', metrics=['accuracy'])\n",
    "\n",
    "# Train the model\n",
    "history = model.fit(train_generator, epochs=10, validation_data=val_generator)"
   ]
  },
  {
   "cell_type": "code",
   "execution_count": 23,
   "id": "18172b4a",
   "metadata": {},
   "outputs": [
    {
     "name": "stdout",
     "output_type": "stream",
     "text": [
      "Test loss: 0.7020498514175415\n",
      "Test accuracy: 0.5357142686843872\n"
     ]
    }
   ],
   "source": [
    "# evaluate the model\n",
    "score = model.evaluate(val_generator, verbose=0)\n",
    "print(\"Test loss:\", score[0])\n",
    "print(\"Test accuracy:\", score[1])\n",
    "# we save the model\n",
    "model.save('model.h5')"
   ]
  },
  {
   "cell_type": "code",
   "execution_count": 24,
   "id": "3bec3706",
   "metadata": {},
   "outputs": [],
   "source": [
    "import numpy as np\n",
    "from PIL import Image"
   ]
  },
  {
   "cell_type": "code",
   "execution_count": 25,
   "id": "fdf1b8d6",
   "metadata": {},
   "outputs": [],
   "source": [
    "# load the trained model£\n",
    "model = keras.models.load_model(\"model.h5\")"
   ]
  },
  {
   "cell_type": "code",
   "execution_count": 45,
   "id": "c93c323f",
   "metadata": {},
   "outputs": [],
   "source": [
    "image = Image.open(\"drawing.png\")\n",
    "original_image = image  # save the original image to display it later\n",
    "# lreprocess the user's image\n",
    "image_array = np.array(image) / 255.0  # normalization\n",
    "image_array = np.expand_dims(image_array, axis=0) \n",
    "image_array = image_array[:, :, :, :3]"
   ]
  },
  {
   "cell_type": "code",
   "execution_count": 46,
   "id": "6228f9aa",
   "metadata": {},
   "outputs": [
    {
     "name": "stdout",
     "output_type": "stream",
     "text": [
      "1/1 [==============================] - 0s 80ms/step\n",
      "0\n"
     ]
    }
   ],
   "source": [
    "# make a prediction\n",
    "prediction = model.predict(image_array)\n",
    "predicted_class = np.argmax(prediction)\n",
    "print(predicted_class)"
   ]
  },
  {
   "cell_type": "code",
   "execution_count": 47,
   "id": "2b3123db",
   "metadata": {},
   "outputs": [
    {
     "data": {
      "text/plain": [
       "<matplotlib.image.AxesImage at 0x7fd467ddcd00>"
      ]
     },
     "execution_count": 47,
     "metadata": {},
     "output_type": "execute_result"
    },
    {
     "data": {
      "image/png": "[encoded data removed]",
      "text/plain": [
       "<Figure size 640x480 with 1 Axes>"
      ]
     },
     "metadata": {},
     "output_type": "display_data"
    }
   ],
   "source": [
    "# display the prediction\n",
    "class_names = [\"Normal.\", \"Not Normal !\"]\n",
    "from matplotlib import pyplot as plt\n",
    "plt.title(class_names[predicted_class])\n",
    "plt.imshow(original_image)"
   ]
  },
  {
   "cell_type": "code",
   "execution_count": null,
   "id": "80a7ba21",
   "metadata": {},
   "outputs": [],
   "source": []
  }
 ],
 "metadata": {
  "kernelspec": {
   "display_name": "Python 3 (ipykernel)",
   "language": "python",
   "name": "python3"
  },
  "language_info": {
   "codemirror_mode": {
    "name": "ipython",
    "version": 3
   },
   "file_extension": ".py",
   "mimetype": "text/x-python",
   "name": "python",
   "nbconvert_exporter": "python",
   "pygments_lexer": "ipython3",
   "version": "3.10.9"
  }
 },
 "nbformat": 4,
 "nbformat_minor": 5
}
